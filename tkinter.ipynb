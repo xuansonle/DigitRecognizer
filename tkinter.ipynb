{
 "cells": [
  {
   "cell_type": "code",
   "execution_count": null,
   "metadata": {
    "ExecuteTime": {
     "start_time": "2020-05-18T10:43:48.279Z"
    },
    "code_folding": []
   },
   "outputs": [],
   "source": [
    "### Load libraries \n",
    "\n",
    "#%matplotlib inline\n",
    "#%config InlineBackend.figure_format = \"retina\"\n",
    "\n",
    "import gzip\n",
    "import numpy as np\n",
    "import matplotlib.pyplot as plt\n",
    "import os\n",
    "import zipfile\n",
    "from tqdm import tqdm_notebook as tqdm\n",
    "from sklearn.model_selection import train_test_split\n",
    "from sklearn.utils import shuffle\n",
    "\n",
    "# Keras\n",
    "from keras.datasets import mnist\n",
    "import keras.models as models\n",
    "from keras.models import load_model\n",
    "from keras.models import Sequential\n",
    "from keras.layers import Conv2D, Dense, Dropout, Flatten, MaxPooling2D, UpSampling2D\n",
    "from keras.utils import to_categorical\n",
    "import keras.backend as K\n",
    "from keras.preprocessing.image import ImageDataGenerator\n",
    "from keras.optimizers import RMSprop, Adam\n",
    "\n",
    "# GUI\n",
    "from numpy import argmax\n",
    "import tkinter as tk\n",
    "import math\n",
    "from PIL import Image, ImageDraw, ImageTk\n",
    "\n",
    "def open_images(filename):\n",
    "    with gzip.open(filename, \"rb\") as file:\n",
    "        data = file.read()\n",
    "        return np.frombuffer(data, dtype=np.uint8, offset=16)\\\n",
    "            .reshape(-1, 28, 28)\\\n",
    "            .astype(np.float32)\n",
    "\n",
    "def open_labels(filename):\n",
    "    with gzip.open(filename, \"rb\") as file:\n",
    "        data = file.read()\n",
    "        return np.frombuffer(data, dtype=np.uint8, offset=8)"
   ]
  },
  {
   "cell_type": "markdown",
   "metadata": {},
   "source": [
    "# Modelling"
   ]
  },
  {
   "cell_type": "markdown",
   "metadata": {},
   "source": [
    "## Read data"
   ]
  },
  {
   "cell_type": "code",
   "execution_count": null,
   "metadata": {
    "ExecuteTime": {
     "end_time": "2020-05-18T10:26:43.136272Z",
     "start_time": "2020-05-18T10:26:42.241575Z"
    }
   },
   "outputs": [],
   "source": [
    "#### Read dataset\n",
    "#X_train = open_images(\"./data/mnist/train-images-idx3-ubyte.gz\")\n",
    "#y_train = open_labels(\"./data/mnist/train-labels-idx1-ubyte.gz\")\n",
    "#X_test = open_images(\"./data/mnist/t10k-images-idx3-ubyte.gz\")\n",
    "#y_test = open_labels(\"./data/mnist/t10k-labels-idx1-ubyte.gz\")\n",
    "\n",
    "#plt.imshow(X_train[1],cmap=\"gray_r\")"
   ]
  },
  {
   "cell_type": "markdown",
   "metadata": {},
   "source": [
    "## Prepare data"
   ]
  },
  {
   "cell_type": "code",
   "execution_count": null,
   "metadata": {
    "ExecuteTime": {
     "end_time": "2020-05-18T10:26:43.549163Z",
     "start_time": "2020-05-18T10:26:43.141174Z"
    }
   },
   "outputs": [],
   "source": [
    "## One hot encoding: Multinomial: y = 0, y = 1, etc.\n",
    "#y_train_multi = to_categorical(y_train)\n",
    "#y_test_multi = to_categorical(y_test)\n",
    "\n",
    "## Reshape input image (number of img, width in pixel, height in pixel, number of color layer)\n",
    "#X_train = X_train.reshape(-1, 28, 28, 1)\n",
    "#X_test = X_test.reshape(-1, 28, 28, 1)\n",
    "\n",
    "## Standard the input values\n",
    "#X_train = X_train.astype('float32')\n",
    "#X_test = X_test.astype('float32')\n",
    "#X_train /= 255.0\n",
    "#X_test /= 255.0"
   ]
  },
  {
   "cell_type": "markdown",
   "metadata": {},
   "source": [
    "## Build model"
   ]
  },
  {
   "cell_type": "code",
   "execution_count": null,
   "metadata": {
    "ExecuteTime": {
     "end_time": "2020-05-18T10:27:44.213467Z",
     "start_time": "2020-05-18T10:26:43.553056Z"
    }
   },
   "outputs": [],
   "source": [
    "## Create the model\n",
    "#model = Sequential()\n",
    "\n",
    "#model.add(Conv2D(filters=32, kernel_size=(3,3), input_shape=(28,28,1)))\n",
    "#model.add(MaxPooling2D(pool_size=(2,2)))\n",
    "\n",
    "#model.add(Flatten())\n",
    "#model.add(Dense(128, activation='relu'))\n",
    "#model.add(Dense(10, activation='softmax'))\n",
    "\n",
    "## Compile the model\n",
    "#model.compile(loss='categorical_crossentropy', optimizer=Adam(), metrics=['accuracy'])\n",
    "\n",
    "## Train the model\n",
    "#model.fit(X_train, y_train_multi, batch_size=32, epochs=2, verbose=1, validation_split=0.3)\n",
    "\n",
    "## Evaluate on test data\n",
    "#model.evaluate(X_test, y_test_multi)"
   ]
  },
  {
   "cell_type": "markdown",
   "metadata": {
    "ExecuteTime": {
     "end_time": "2020-05-18T10:05:59.211250Z",
     "start_time": "2020-05-18T10:05:59.192227Z"
    }
   },
   "source": [
    "## Save model"
   ]
  },
  {
   "cell_type": "code",
   "execution_count": null,
   "metadata": {
    "ExecuteTime": {
     "end_time": "2020-05-18T10:27:44.345022Z",
     "start_time": "2020-05-18T10:27:44.217796Z"
    }
   },
   "outputs": [],
   "source": [
    "#model.save(\"DigitRecognizer.h5\")"
   ]
  },
  {
   "cell_type": "markdown",
   "metadata": {},
   "source": [
    "# GUI"
   ]
  },
  {
   "cell_type": "markdown",
   "metadata": {},
   "source": [
    "## Load model"
   ]
  },
  {
   "cell_type": "code",
   "execution_count": null,
   "metadata": {
    "ExecuteTime": {
     "end_time": "2020-05-18T10:13:07.460507Z",
     "start_time": "2020-05-18T10:13:06.915420Z"
    }
   },
   "outputs": [],
   "source": [
    "model = load_model(\"DigitRecognizer.h5\")"
   ]
  },
  {
   "cell_type": "markdown",
   "metadata": {
    "ExecuteTime": {
     "end_time": "2020-05-18T10:22:53.286082Z",
     "start_time": "2020-05-18T10:22:53.282500Z"
    }
   },
   "source": [
    "## Create GUI"
   ]
  },
  {
   "cell_type": "code",
   "execution_count": null,
   "metadata": {},
   "outputs": [],
   "source": [
    "size = (28, 28)\n",
    "white = (255, 255, 255)\n",
    "black = (0, 0, 0)\n",
    "canvas_width = 150\n",
    "canvas_height = 150\n",
    "xpoints = []\n",
    "ypoints = []  \n",
    "x2points = []\n",
    "y2points = []"
   ]
  },
  {
   "cell_type": "code",
   "execution_count": null,
   "metadata": {
    "ExecuteTime": {
     "end_time": "2020-05-18T10:06:03.289646Z",
     "start_time": "2020-05-18T10:06:03.256981Z"
    },
    "code_folding": [
     1,
     11,
     25,
     83
    ]
   },
   "outputs": [],
   "source": [
    "# Define functions \n",
    "def createPaint():\n",
    "\n",
    "    global w\n",
    "\n",
    "    w = tk.Canvas(window, width=canvas_width, height=canvas_height, bg='red')\n",
    "\n",
    "    w.grid(row=1)\n",
    "\n",
    "    w.bind(\"<B1-Motion>\", paint)\n",
    "\n",
    "def paint(event):\n",
    "\n",
    "    x1, y1 = (event.x - 6), (event.y - 6)\n",
    "    x2, y2 = (event.x + 6), (event.y + 6)\n",
    "\n",
    "    # Draw each point\n",
    "    w.create_oval(x1, y1, x2, y2, fill='black')\n",
    "\n",
    "    # Append the coordinates to list\n",
    "    xpoints.append(x1)\n",
    "    ypoints.append(y1)\n",
    "    x2points.append(x2)\n",
    "    y2points.append(y2)\n",
    "\n",
    "def dataPrep(image):\n",
    "    image = image.resize(size)\n",
    "    image = image.convert('L')\n",
    "    image = np.array(image)\n",
    "    image = image.reshape(-1, 28, 28, 1)\n",
    "    image = image.astype('float32')\n",
    "    image /= 255.0\n",
    "    return image\n",
    "    \n",
    "def displayTKImage(image):\n",
    "    \n",
    "    plt.imshow(image.reshape(28, 28), cmap=\"gray\")\n",
    "    plt.savefig('./data/gui/result.png',bbox_inches='tight')\n",
    "    plt.close()\n",
    "\n",
    "    img = ImageTk.PhotoImage(Image.open(\"./data/gui/result.png\"))\n",
    "\n",
    "    labelImage = tk.Label(window, image=img)\n",
    "    labelImage.image = img\n",
    "    labelImage.grid(row=6, column=0)\n",
    "    \n",
    "def predictNumber():\n",
    "\n",
    "    global xpoints\n",
    "    global ypoints\n",
    "    global x2points\n",
    "    global y2points\n",
    "\n",
    "    image1 = Image.new(\"RGB\", (canvas_width, canvas_height), black)\n",
    "    draw1 = ImageDraw.Draw(image1)\n",
    "\n",
    "    elementos = len(xpoints)\n",
    "\n",
    "    # Recreate the drawn image\n",
    "    for p in range(elementos):\n",
    "        x = xpoints[p]\n",
    "        y = ypoints[p]\n",
    "        x2 = x2points[p]\n",
    "        y2 = y2points[p]\n",
    "        draw1.ellipse((x, y, x2, y2), 'white')\n",
    "\n",
    "    # Data preparation for modeling\n",
    "    image1 = dataPrep(image1)\n",
    "\n",
    "    # Display the predicted value. Zeile 4\n",
    "    all_pred = list(map(lambda x: round(x,2), list(model.predict(image1))[0]))\n",
    "    pred = argmax(model.predict(image1))\n",
    "    tk.Label(window, text=f\"Prediction: {pred}\",font=('Arial Bold', 20)).grid(row=4)\n",
    "    tk.Label(window, text=f\"Prob: {all_pred}\",font=('Arial Bold', 15)).grid(row=5)\n",
    "    \n",
    "    # Display TK Image\n",
    "    displayTKImage(image1)\n",
    "    \n",
    "    xpoints = []\n",
    "    ypoints = []\n",
    "    x2points = []\n",
    "    y2points = []\n",
    "\n",
    "def reset():\n",
    "    # Reset the global image values for the next prediction\n",
    "    global xpoints\n",
    "    global ypoints\n",
    "    global x2points\n",
    "    global y2points\n",
    "\n",
    "    xpoints = []\n",
    "    ypoints = []\n",
    "    x2points = []\n",
    "    y2points = []\n",
    "    \n",
    "    createPaint()"
   ]
  },
  {
   "cell_type": "code",
   "execution_count": null,
   "metadata": {
    "ExecuteTime": {
     "end_time": "2020-05-18T10:06:43.713303Z",
     "start_time": "2020-05-18T10:06:04.409543Z"
    },
    "code_folding": []
   },
   "outputs": [],
   "source": [
    "# GUI\n",
    "\n",
    "# Initialize a window\n",
    "window = tk.Tk()\n",
    "\n",
    "# Define the title and window size\n",
    "window.title(\"Handwriting Calculator\")\n",
    "window.geometry('800x800')\n",
    "\n",
    "# Add heading text to Zeile 0\n",
    "tk.Label(window,\n",
    "         text=\"Write digits with your mouse in the red square\",\n",
    "         font=('Arial Bold', 15)).grid(row=0)\n",
    "\n",
    "# Start building\n",
    "createPaint()\n",
    "\n",
    "# Display button for predicting the drawn number\n",
    "tk.Button(window, text='Save image', width=25,command=predictNumber).grid(row=2)\n",
    "\n",
    "# Display button in case wrong prediction\n",
    "#tk.Button(window, text='Click here if the number is not correct', width=35, command=delete).grid(row=4)\n",
    "\n",
    "# Display reset button\n",
    "tk.Button(window, text='Reset', width=25, command=reset).grid(row=3)\n",
    "\n",
    "# Open the window\n",
    "window.mainloop()"
   ]
  }
 ],
 "metadata": {
  "kernelspec": {
   "display_name": "Python 3",
   "language": "python",
   "name": "python3"
  },
  "language_info": {
   "codemirror_mode": {
    "name": "ipython",
    "version": 3
   },
   "file_extension": ".py",
   "mimetype": "text/x-python",
   "name": "python",
   "nbconvert_exporter": "python",
   "pygments_lexer": "ipython3",
   "version": "3.7.5"
  },
  "toc": {
   "base_numbering": "1",
   "nav_menu": {},
   "number_sections": true,
   "sideBar": true,
   "skip_h1_title": false,
   "title_cell": "Table of Contents",
   "title_sidebar": "Contents",
   "toc_cell": false,
   "toc_position": {
    "height": "calc(100% - 180px)",
    "left": "10px",
    "top": "150px",
    "width": "281px"
   },
   "toc_section_display": true,
   "toc_window_display": true
  },
  "varInspector": {
   "cols": {
    "lenName": 16,
    "lenType": 16,
    "lenVar": 40
   },
   "kernels_config": {
    "python": {
     "delete_cmd_postfix": "",
     "delete_cmd_prefix": "del ",
     "library": "var_list.py",
     "varRefreshCmd": "print(var_dic_list())"
    },
    "r": {
     "delete_cmd_postfix": ") ",
     "delete_cmd_prefix": "rm(",
     "library": "var_list.r",
     "varRefreshCmd": "cat(var_dic_list()) "
    }
   },
   "types_to_exclude": [
    "module",
    "function",
    "builtin_function_or_method",
    "instance",
    "_Feature"
   ],
   "window_display": false
  }
 },
 "nbformat": 4,
 "nbformat_minor": 2
}
